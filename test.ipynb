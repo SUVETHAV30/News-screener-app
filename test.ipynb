{
 "cells": [
  {
   "cell_type": "code",
   "execution_count": 3,
   "metadata": {},
   "outputs": [
    {
     "data": {
      "text/plain": [
       "{'title': \"Reshaping Finance: Huawei's Commitment to 4-Zero and Resilient Infrastructure - Huawei Enterprise\",\n",
       " 'description': \"Reshaping Finance: Huawei's Commitment to 4-Zero and Resilient Infrastructure  Huawei Enterprise\",\n",
       " 'content': '',\n",
       " 'publishedAt': 'Tue, 15 Oct 2024 06:16:20 GMT',\n",
       " 'source': 'Huawei Enterprise',\n",
       " 'link': 'https://news.google.com/rss/articles/CBMimwFBVV95cUxOd1Zpb0kwV2poNnlmOEFqc3UwcTN6VHlGUXNTLVlJazdOWWRRSmc4cDlMUDlxSi1GMXNiRHFRS3lGaG1Ea19NQlJSZkZud2VOS2hlOW9hSDItY3poanZUeDNCcmplRTNhQXdsWkRqemRRekZ2RHZaNEg1MjRCb2taTDdkRmtwbjFSRHVMdE9MRmZrcG5BaTU2dDhtRQ?oc=5&hl=en-IN&gl=IN&ceid=IN:en',\n",
       " 'image': '',\n",
       " 'category': 'Finance'}"
      ]
     },
     "execution_count": 3,
     "metadata": {},
     "output_type": "execute_result"
    }
   ],
   "source": [
    "from gnews import GNews\n",
    "gnews = GNews()\n",
    "news_document = []\n",
    "# Temporarily hardcode a different category for testing, e.g., \"Finance\"\n",
    "news = gnews.get_news(\"Finance\")  # Hardcode for testing\n",
    "    \n",
    "for article in news:\n",
    "    news_document = {\n",
    "        'title': article['title'],\n",
    "        'description': article['description'],\n",
    "        'content': article.get('content', ''),\n",
    "        'publishedAt': article['published date'],\n",
    "        'source': article['publisher']['title'],\n",
    "        'link': article['url'],\n",
    "        'image': article.get('image', ''),\n",
    "        'category': \"Finance\" # Use the original category\n",
    "    }\n",
    "news_document\n"
   ]
  }
 ],
 "metadata": {
  "kernelspec": {
   "display_name": "Python 3",
   "language": "python",
   "name": "python3"
  },
  "language_info": {
   "codemirror_mode": {
    "name": "ipython",
    "version": 3
   },
   "file_extension": ".py",
   "mimetype": "text/x-python",
   "name": "python",
   "nbconvert_exporter": "python",
   "pygments_lexer": "ipython3",
   "version": "3.12.5"
  }
 },
 "nbformat": 4,
 "nbformat_minor": 2
}
